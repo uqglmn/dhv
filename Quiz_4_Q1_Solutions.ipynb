{
 "cells": [
  {
   "cell_type": "markdown",
   "id": "5d9f9d1a",
   "metadata": {},
   "source": [
    "## DHV Quiz 4 Question 1 Solutions"
   ]
  },
  {
   "cell_type": "markdown",
   "id": "81fa3c15",
   "metadata": {},
   "source": [
    "<a href=\"https://colab.research.google.com/github/uqglmn/dhv/blob/main/Quiz_4_Q1_Solutions.ipynb\" target=\"_parent\"><img src=\"https://colab.research.google.com/assets/colab-badge.svg\" alt=\"Open In Colab\"/></a>"
   ]
  },
  {
   "cell_type": "markdown",
   "id": "38ec1265",
   "metadata": {},
   "source": [
    "### Canvas Quiz Instructions:"
   ]
  },
  {
   "cell_type": "markdown",
   "id": "165f6701",
   "metadata": {},
   "source": [
    "In this quiz, assume that **numpy is imported as np**, **pandas is imported as pd**, and **datetime is imported as dt**. Your answers will be marked automatically by python.\n",
    "\n",
    "To complete the quiz, write python code on your computer. Then copy-paste to the provided textboxes **the relevant parts of your code only, in plain text**.\n",
    "Your answers will be tested on modified data sets."
   ]
  },
  {
   "cell_type": "markdown",
   "id": "72f12305",
   "metadata": {},
   "source": [
    "### Question 1"
   ]
  },
  {
   "cell_type": "markdown",
   "id": "0b95b781",
   "metadata": {},
   "source": [
    "#### Version Q11"
   ]
  },
  {
   "cell_type": "markdown",
   "id": "7bf6411d",
   "metadata": {},
   "source": [
    "The CSV file https://raw.githubusercontent.com/uqglmn/dhv/main/q4/london.csv contains London weather data from 1979 to 2020.\n",
    "Read this CSV file into a single pandas DataFrame weather. Then:\n",
    "\n",
    "- Find the **mean monthly temperature** and combine this data into a single pandas Series ``mean_monthly_temp``\n",
    "- Find the **mean seasonal temperature** and combine this data into a single pandas Series ``mean_seasonal_temp``\n",
    "\n",
    "Round your numerical data to 1 decimal point precision.\n",
    "\n",
    "Use these seasons' dates:\n",
    "\n",
    "- Spring: March 20 to June 20\n",
    "- Summer: June 21 to September 22\n",
    "- Autumn: September 23 to December 21\n",
    "- Winter: December 22 to March 19\n",
    "\n",
    "The Series ``mean_monthly_temp`` should have 12 rows and the following head:\n",
    "\n",
    "```\n",
    "month\n",
    "January      5.2\n",
    "February     5.4\n",
    "March        7.6\n",
    "April       10.1\n",
    "May         13.4\n",
    "Name: mean_temp, dtype: float64\n",
    "```\n",
    "\n",
    "The Series ``mean_seasonal_temp`` should have the following structure:\n",
    "\n",
    "```\n",
    "season\n",
    "Autumn     9.6\n",
    "Spring    12.2\n",
    "Summer    17.9\n",
    "Winter     5.7\n",
    "Name: mean_temp, dtype: float64\n",
    "```\n",
    "\n",
    "Points:\n",
    "\n",
    "- 1 point for the correct Series ``mean_monthly_temp``.\n",
    "- 1 point for the correct Series ``mean_seasonal_temp``.\n",
    "\n",
    "Write your python code that completes this task in the textbox below, in plain text. <br>\n",
    "There should be no import and print statements in your code. Do not write any comments."
   ]
  },
  {
   "cell_type": "markdown",
   "id": "70a45eda",
   "metadata": {},
   "source": [
    "#### Version Q12"
   ]
  },
  {
   "cell_type": "markdown",
   "id": "3b603021",
   "metadata": {},
   "source": [
    "The CSV file https://raw.githubusercontent.com/uqglmn/dhv/main/q4/london.csv contains London weather data from 1979 to 2020.\n",
    "Read this CSV file into a single pandas DataFrame weather. Then:\n",
    "\n",
    "- Find the **minimum monthly temperature** and combine this data into a single pandas Series ``min_monthly_temp``\n",
    "- Find the **mean minimum seasonal temperature** and combine this data into a single pandas Series ``mean_min_seasonal_temp``\n",
    "\n",
    "Round your numerical data to 1 decimal point precision.\n",
    "\n",
    "Use these seasons' dates:\n",
    "\n",
    "- Spring: March 20 to June 20\n",
    "- Summer: June 21 to September 22\n",
    "- Autumn: September 23 to December 21\n",
    "- Winter: December 22 to March 19\n",
    "\n",
    "The Series ``min_monthly_temp`` should have 12 rows and the following head:\n",
    "\n",
    "```\n",
    "month\n",
    "January    -10.1\n",
    "February    -9.6\n",
    "March       -5.1\n",
    "April       -3.1\n",
    "May         -0.9\n",
    "Name: min_temp, dtype: float64\n",
    "```\n",
    "\n",
    "The Series ``mean_min_seasonal_temp`` should have the following structure:\n",
    "\n",
    "```\n",
    "season\n",
    "Autumn     6.3\n",
    "Spring     7.8\n",
    "Summer    13.2\n",
    "Winter     2.6\n",
    "Name: min_temp, dtype: float64\n",
    "```\n",
    "\n",
    "Points:\n",
    "\n",
    "- 1 point for the correct Series ``min_monthly_temp``.\n",
    "- 1 point for the correct Series ``mean_min_seasonal_temp``.\n",
    "\n",
    "Write your python code that completes this task in the textbox below, in plain text. <br>\n",
    "There should be no import and print statements in your code. Do not write any comments."
   ]
  },
  {
   "cell_type": "markdown",
   "id": "9ebbcadb",
   "metadata": {},
   "source": [
    "#### Version Q13"
   ]
  },
  {
   "cell_type": "markdown",
   "id": "151c56c2",
   "metadata": {},
   "source": [
    "The CSV file https://raw.githubusercontent.com/uqglmn/dhv/main/q4/london.csv contains London weather data from 1979 to 2020.\n",
    "Read this CSV file into a single pandas DataFrame weather. Then:\n",
    "\n",
    "- Find the **maximum monthly temperature** and combine this data into a single pandas Series ``mean_monthly_temp``\n",
    "- Find the **mean maximum seasonal temperature** and combine this data into a single pandas Series ``mean_max_seasonal_temp``\n",
    "\n",
    "Round your numerical data to 1 decimal point precision.\n",
    "\n",
    "Use these seasons' dates:\n",
    "\n",
    "- Spring: March 20 to June 20\n",
    "- Summer: June 21 to September 22\n",
    "- Autumn: September 23 to December 21\n",
    "- Winter: December 22 to March 19\n",
    "\n",
    "The Series ``max_monthly_temp`` should have 12 rows and the following head:\n",
    "\n",
    "```\n",
    "month\n",
    "January     15.4\n",
    "February    20.1\n",
    "March       22.8\n",
    "April       28.5\n",
    "May         30.7\n",
    "Name: max_temp, dtype: float64\n",
    "```\n",
    "\n",
    "The Series ``mean_max_seasonal_temp`` should have the following structure:\n",
    "\n",
    "```\n",
    "season\n",
    "Autumn    12.8\n",
    "Spring    16.8\n",
    "Summer    22.6\n",
    "Winter     8.9\n",
    "Name: max_temp, dtype: float64\n",
    "```\n",
    "\n",
    "Points:\n",
    "\n",
    "- 1 point for the correct Series ``max_monthly_temp``.\n",
    "- 1 point for the correct Series ``mean_max_seasonal_temp``.\n",
    "\n",
    "Write your python code that completes this task in the textbox below, in plain text. <br>\n",
    "There should be no import and print statements in your code. Do not write any comments."
   ]
  },
  {
   "cell_type": "markdown",
   "id": "9406d62a",
   "metadata": {},
   "source": [
    "### Solutions"
   ]
  },
  {
   "cell_type": "markdown",
   "id": "ebe5a1e3",
   "metadata": {},
   "source": [
    "#### Python code"
   ]
  },
  {
   "cell_type": "code",
   "execution_count": 1,
   "id": "a401ce86",
   "metadata": {},
   "outputs": [],
   "source": [
    "import numpy as np\n",
    "import pandas as pd\n",
    "import datetime as dt"
   ]
  },
  {
   "cell_type": "code",
   "execution_count": 2,
   "id": "1aac42fc",
   "metadata": {},
   "outputs": [],
   "source": [
    "weather = pd.read_csv(\"https://raw.githubusercontent.com/uqglmn/dhv/main/q4/london.csv\")\n",
    "\n",
    "weather[\"date\"] = pd.to_datetime(weather[\"date\"], format='%Y%m%d')\n",
    "weather.set_index(\"date\", inplace=True)\n",
    "weather[\"month\"] = weather.index.month\n",
    "weather[\"day\"] = weather.index.day\n",
    "\n",
    "months_dict = {1:\"January\", 2:\"February\", 3:\"March\", 4:\"April\", 5:\"May\", 6:\"June\", \n",
    "               7:\"July\", 8:\"August\", 9:\"September\", 10:\"October\", 11:\"November\", 12:\"December\"}\n",
    "\n",
    "season_dict = {0:\"Winter\", 1:\"Spring\", 2:\"Summer\", 3:\"Autumn\"}\n",
    "\n",
    "# this is a modified code from Notebook 2.9, Birthrate Data Example\n",
    "days = np.array([dt.datetime(2000, month, day) for (month, day) in (weather[[\"month\",\"day\"]].values)])\n",
    "\n",
    "weather[\"season\"] = \"Winter\"\n",
    "weather.loc[(days >= dt.datetime(2000, 3, 20)) & (days < dt.datetime(2000, 6, 21)), \"season\"] = \"Spring\"\n",
    "weather.loc[(days >= dt.datetime(2000, 6, 21)) & (days < dt.datetime(2000, 9, 23)), \"season\"] = \"Summer\"\n",
    "weather.loc[(days >= dt.datetime(2000, 9, 23)) & (days < dt.datetime(2000, 12, 22)), \"season\"] = \"Autumn\"\n",
    "\n",
    "# monthly temperatures\n",
    "\n",
    "mean_monthly_temp = weather.groupby(\"month\")[\"mean_temp\"].mean().round(1).rename(months_dict)\n",
    "min_monthly_temp = weather.groupby(\"month\")[\"min_temp\"].min().round(1).rename(months_dict)\n",
    "max_monthly_temp = weather.groupby(\"month\")[\"max_temp\"].max().round(1).rename(months_dict)\n",
    "\n",
    "# seasonal temperatures\n",
    "\n",
    "mean_seasonal_temp = weather.groupby(\"season\")[\"mean_temp\"].mean().round(1)\n",
    "mean_min_seasonal_temp = weather.groupby(\"season\")[\"min_temp\"].mean().round(1)\n",
    "mean_max_seasonal_temp = weather.groupby(\"season\")[\"max_temp\"].mean().round(1)"
   ]
  },
  {
   "cell_type": "markdown",
   "id": "a5f7b88b",
   "metadata": {},
   "source": [
    "#### Q11 Answers"
   ]
  },
  {
   "cell_type": "code",
   "execution_count": 3,
   "id": "f6ba4878",
   "metadata": {},
   "outputs": [
    {
     "data": {
      "text/plain": [
       "month\n",
       "January       5.2\n",
       "February      5.4\n",
       "March         7.6\n",
       "April        10.1\n",
       "May          13.4\n",
       "June         16.5\n",
       "July         18.8\n",
       "August       18.5\n",
       "September    15.7\n",
       "October      12.1\n",
       "November      8.1\n",
       "December      5.9\n",
       "Name: mean_temp, dtype: float64"
      ]
     },
     "execution_count": 3,
     "metadata": {},
     "output_type": "execute_result"
    }
   ],
   "source": [
    "mean_monthly_temp"
   ]
  },
  {
   "cell_type": "code",
   "execution_count": 4,
   "id": "dbd85f1c",
   "metadata": {
    "scrolled": false
   },
   "outputs": [
    {
     "data": {
      "text/plain": [
       "season\n",
       "Autumn     9.6\n",
       "Spring    12.2\n",
       "Summer    17.9\n",
       "Winter     5.7\n",
       "Name: mean_temp, dtype: float64"
      ]
     },
     "execution_count": 4,
     "metadata": {},
     "output_type": "execute_result"
    }
   ],
   "source": [
    "mean_seasonal_temp"
   ]
  },
  {
   "cell_type": "markdown",
   "id": "1676c1a4",
   "metadata": {},
   "source": [
    "#### Q12 Answers"
   ]
  },
  {
   "cell_type": "code",
   "execution_count": 5,
   "id": "4f611e81",
   "metadata": {},
   "outputs": [
    {
     "data": {
      "text/plain": [
       "month\n",
       "January     -10.1\n",
       "February     -9.6\n",
       "March        -5.1\n",
       "April        -3.1\n",
       "May          -0.9\n",
       "June          2.9\n",
       "July          6.7\n",
       "August        5.7\n",
       "September     3.3\n",
       "October      -2.5\n",
       "November     -7.0\n",
       "December    -11.8\n",
       "Name: min_temp, dtype: float64"
      ]
     },
     "execution_count": 5,
     "metadata": {},
     "output_type": "execute_result"
    }
   ],
   "source": [
    "min_monthly_temp"
   ]
  },
  {
   "cell_type": "code",
   "execution_count": 6,
   "id": "2904a173",
   "metadata": {
    "scrolled": false
   },
   "outputs": [
    {
     "data": {
      "text/plain": [
       "season\n",
       "Autumn     6.3\n",
       "Spring     7.8\n",
       "Summer    13.2\n",
       "Winter     2.6\n",
       "Name: min_temp, dtype: float64"
      ]
     },
     "execution_count": 6,
     "metadata": {},
     "output_type": "execute_result"
    }
   ],
   "source": [
    "mean_min_seasonal_temp"
   ]
  },
  {
   "cell_type": "markdown",
   "id": "2d7865ca",
   "metadata": {},
   "source": [
    "#### Q13 Answers"
   ]
  },
  {
   "cell_type": "code",
   "execution_count": 7,
   "id": "dd80e4ff",
   "metadata": {},
   "outputs": [
    {
     "data": {
      "text/plain": [
       "month\n",
       "January      15.4\n",
       "February     20.1\n",
       "March        22.8\n",
       "April        28.5\n",
       "May          30.7\n",
       "June         36.7\n",
       "July         37.9\n",
       "August       37.9\n",
       "September    32.8\n",
       "October      28.3\n",
       "November     18.5\n",
       "December     16.6\n",
       "Name: max_temp, dtype: float64"
      ]
     },
     "execution_count": 7,
     "metadata": {},
     "output_type": "execute_result"
    }
   ],
   "source": [
    "max_monthly_temp"
   ]
  },
  {
   "cell_type": "code",
   "execution_count": 8,
   "id": "205ebb17",
   "metadata": {
    "scrolled": true
   },
   "outputs": [
    {
     "data": {
      "text/plain": [
       "season\n",
       "Autumn    12.8\n",
       "Spring    16.8\n",
       "Summer    22.6\n",
       "Winter     8.9\n",
       "Name: max_temp, dtype: float64"
      ]
     },
     "execution_count": 8,
     "metadata": {},
     "output_type": "execute_result"
    }
   ],
   "source": [
    "mean_max_seasonal_temp"
   ]
  },
  {
   "cell_type": "markdown",
   "id": "c76c7ca4",
   "metadata": {},
   "source": [
    "### Check your grades"
   ]
  },
  {
   "cell_type": "markdown",
   "id": "62636d72",
   "metadata": {},
   "source": [
    "Run this code to get your grade breakdown: "
   ]
  },
  {
   "cell_type": "code",
   "execution_count": null,
   "id": "5a113eac",
   "metadata": {},
   "outputs": [],
   "source": [
    "stud_id = int(input(\"Enter your student ID: \"))\n",
    "df = pd.read_csv(\"https://raw.githubusercontent.com/uqglmn/dhv/main/q4/Q4Q1.csv\")\n",
    "stud = df[df[\"sis_id\"]==stud_id]\n",
    "print(f\"Q1 points: {stud.iloc[0,1]} out of 2. Breakdown:\")\n",
    "print(stud.iloc[0,2])"
   ]
  },
  {
   "cell_type": "markdown",
   "id": "ed2c740c",
   "metadata": {},
   "source": [
    "Use the cell below to enter and check your submitted code:"
   ]
  },
  {
   "cell_type": "code",
   "execution_count": null,
   "id": "9f3d0eaa",
   "metadata": {},
   "outputs": [],
   "source": [
    "# write your solution here\n",
    "\n"
   ]
  }
 ],
 "metadata": {
  "kernelspec": {
   "display_name": "Python 3 (ipykernel)",
   "language": "python",
   "name": "python3"
  },
  "language_info": {
   "codemirror_mode": {
    "name": "ipython",
    "version": 3
   },
   "file_extension": ".py",
   "mimetype": "text/x-python",
   "name": "python",
   "nbconvert_exporter": "python",
   "pygments_lexer": "ipython3",
   "version": "3.9.13"
  },
  "latex_envs": {
   "LaTeX_envs_menu_present": true,
   "autoclose": false,
   "autocomplete": true,
   "bibliofile": "biblio.bib",
   "cite_by": "apalike",
   "current_citInitial": 1,
   "eqLabelWithNumbers": true,
   "eqNumInitial": 1,
   "hotkeys": {
    "equation": "Ctrl-E",
    "itemize": "Ctrl-I"
   },
   "labels_anchors": false,
   "latex_user_defs": false,
   "report_style_numbering": false,
   "user_envs_cfg": false
  }
 },
 "nbformat": 4,
 "nbformat_minor": 5
}
