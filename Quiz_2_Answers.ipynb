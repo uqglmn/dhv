{
 "cells": [
  {
   "cell_type": "markdown",
   "id": "698b262d",
   "metadata": {},
   "source": [
    "## DHV Quiz 2"
   ]
  },
  {
   "cell_type": "markdown",
   "id": "a97219fc",
   "metadata": {},
   "source": [
    "<a href=\"https://colab.research.google.com/github/uqglmn/dhv/blob/main/Quiz_2_Answers.ipynb\" target=\"_parent\"><img src=\"https://colab.research.google.com/assets/colab-badge.svg\" alt=\"Open In Colab\"/></a>"
   ]
  },
  {
   "cell_type": "markdown",
   "id": "c9c786ad",
   "metadata": {},
   "source": [
    "**Canvas Quiz Instructions:**\n",
    "\n",
    "In this quiz, assume that NumPy is imported as np. Your answers to questions 2-4 will me marked automatically by python.\n",
    "\n",
    "You can check your answers by executing the cells below."
   ]
  },
  {
   "cell_type": "markdown",
   "id": "65397c70",
   "metadata": {},
   "source": [
    "### Question 2"
   ]
  },
  {
   "cell_type": "markdown",
   "id": "d9ba38ee",
   "metadata": {},
   "source": [
    "**Version 1.**\n",
    "\n",
    "Let A be a one-dimensional NumPy array with positive integer values. Write a **single-line python code** that computes the sum of values of A, that are within one standard deviation from the mean of A.\n",
    "\n",
    "For example, if ``A = np.array([1,2,3,4,5,6,7,8,9,10])``, your code should return ``33``."
   ]
  },
  {
   "cell_type": "code",
   "execution_count": null,
   "id": "e02af343",
   "metadata": {},
   "outputs": [],
   "source": [
    "import numpy as np\n",
    "\n",
    "# sample array\n",
    "A = np.random.randint(1,100,20)\n",
    "\n",
    "# sample answer\n",
    "sample = A[ (A >= (A.mean()-A.std())) & (A <= (A.mean()+A.std())) ].sum()\n",
    "\n",
    "# input your answer\n",
    "code = input(\"Input your answer: \")\n",
    "exec(\"ans = \" + code)\n",
    "pts = int(np.array_equal(np.array(sample),np.array(ans)))\n",
    "\n",
    "# print \n",
    "print(f\"You got {pts} point(s) for your answer.\")"
   ]
  },
  {
   "cell_type": "markdown",
   "id": "fead564e",
   "metadata": {},
   "source": [
    "**Version 2.**\n",
    "\n",
    "Let A be a one-dimensional NumPy array with positive integer values. Write a single-line python code that computes the mean of square-roots of every other value of A.\n",
    "\n",
    "For example, if ``A = np.array([1,2,3,4])``, your code should return ``1.366``."
   ]
  },
  {
   "cell_type": "code",
   "execution_count": null,
   "id": "86f1a73d",
   "metadata": {},
   "outputs": [],
   "source": [
    "import numpy as np\n",
    "\n",
    "# sample array\n",
    "A = np.random.randint(1,100,20)\n",
    "\n",
    "# sample answer\n",
    "sample = (np.sqrt(A[::2])).mean()\n",
    "\n",
    "# input your answer\n",
    "code = input(\"Input your answer: \")\n",
    "exec(\"ans = \" + code)\n",
    "pts = int(np.round(sol,3) == np.round(ans,3))\n",
    "\n",
    "# print \n",
    "print(f\"You got {pts} point(s) for your answer.\")"
   ]
  },
  {
   "cell_type": "markdown",
   "id": "1432542f",
   "metadata": {},
   "source": [
    "**Version 3.**\n",
    "\n",
    "Let A be a one-dimensional NumPy array with positive integer values. Write a single-line python code that computes the sum of squares of all even values of A.\n",
    "\n",
    "For example, if ``A = np.array([1,2,3,4])``, your code should return ``20``."
   ]
  },
  {
   "cell_type": "code",
   "execution_count": null,
   "id": "661095cb",
   "metadata": {},
   "outputs": [],
   "source": [
    "import numpy as np\n",
    "\n",
    "# sample array\n",
    "A = np.random.randint(1,100,20)\n",
    "\n",
    "# sample answer\n",
    "sample = (A[A%2==0]**2).sum()\n",
    "\n",
    "# input your answer\n",
    "code = input(\"Input your answer: \")\n",
    "exec(\"ans = \" + code)\n",
    "pts = int(np.array_equal(np.array(sample),np.array(ans)))\n",
    "\n",
    "# print \n",
    "print(f\"You got {pts} point(s) for your answer.\")"
   ]
  },
  {
   "cell_type": "markdown",
   "id": "c49b2aaa",
   "metadata": {},
   "source": [
    "**Version 4.**\n",
    "\n",
    "Let A be a one-dimensional NumPy array with positive integer values. Write a single-line python code that computes the product of squares of all odd values of A.\n",
    "\n",
    "For example, if ``A = np.array([1,2,3,4])``, your code should return ``9``."
   ]
  },
  {
   "cell_type": "code",
   "execution_count": null,
   "id": "38b9e9b3",
   "metadata": {},
   "outputs": [],
   "source": [
    "import numpy as np\n",
    "\n",
    "# sample array\n",
    "A = np.random.randint(1,100,20)\n",
    "\n",
    "# sample answer\n",
    "sample = (A[A%2==1]**2).prod()\n",
    "\n",
    "# input your answer\n",
    "code = input(\"Input your answer: \")\n",
    "exec(\"ans = \" + code)\n",
    "pts = int(np.array_equal(np.array(sample),np.array(ans)))\n",
    "\n",
    "# print \n",
    "print(f\"You got {pts} point(s) for your answer.\")"
   ]
  },
  {
   "cell_type": "markdown",
   "id": "98308844",
   "metadata": {},
   "source": [
    "**Version 5.**\n",
    "\n",
    "Let A be a one-dimensional NumPy array with positive integer values. Write a single-line python code that computes the sum of values of A, that are outside one standard deviation from the mean of A.\n",
    "\n",
    "For example, if ``A = np.array([1,2,3,4,5,6,7,8,9,10])``, your code should return ``22``."
   ]
  },
  {
   "cell_type": "code",
   "execution_count": null,
   "id": "a96ba97d",
   "metadata": {},
   "outputs": [],
   "source": [
    "import numpy as np\n",
    "\n",
    "# sample array\n",
    "A = np.random.randint(1,100,20)\n",
    "\n",
    "# sample answer\n",
    "sample = A[ (A < (A.mean()-A.std())) | (A > (A.mean()+A.std())) ].sum()\n",
    "\n",
    "# input your answer\n",
    "code = input(\"Input your answer: \")\n",
    "exec(\"ans = \" + code)\n",
    "pts = int(np.array_equal(np.array(sample),np.array(ans)))\n",
    "\n",
    "# print \n",
    "print(f\"You got {pts} point(s) for your answer.\")"
   ]
  },
  {
   "cell_type": "markdown",
   "id": "986b1e42",
   "metadata": {},
   "source": [
    "### Question 3."
   ]
  },
  {
   "cell_type": "markdown",
   "id": "1fced5a2",
   "metadata": {},
   "source": [
    "**Version 1.**\n",
    "\n",
    "Let A be a two-dimensional NumPy array with integer values. Write a single-line python code that counts the number of values in each column of A, that are bigger that the overall mean of A.\n",
    "\n",
    "For example, if ``A = np.array([[1,2],[-3,4]])``, your code should return ``array([0, 2])``"
   ]
  },
  {
   "cell_type": "code",
   "execution_count": null,
   "id": "65e39bc0",
   "metadata": {},
   "outputs": [],
   "source": [
    "import numpy as np\n",
    "\n",
    "# sample array\n",
    "A = np.random.randint(-10,100,(20,15))\n",
    "\n",
    "# sample answer\n",
    "sample = (A>A.mean()).sum(axis=0)\n",
    "\n",
    "# input your answer\n",
    "code = input(\"Input your answer: \")\n",
    "exec(\"ans = \" + code)\n",
    "pts = int(np.array_equal(np.array(sample),np.array(ans)))\n",
    "\n",
    "# print \n",
    "print(f\"You got {pts} point(s) for your answer.\")"
   ]
  },
  {
   "cell_type": "markdown",
   "id": "d466334f",
   "metadata": {},
   "source": [
    "**Version 2.**\n",
    "\n",
    "Let A be a two-dimensional NumPy array with integer values. Write a single-line python code that counts the number of columns of A, that have negative values.\n",
    "\n",
    "For example, if ``A = np.array([[1,2],[-3,4]])``, your code should return ``1``."
   ]
  },
  {
   "cell_type": "code",
   "execution_count": null,
   "id": "91c5448b",
   "metadata": {},
   "outputs": [],
   "source": [
    "import numpy as np\n",
    "\n",
    "# sample array\n",
    "A = np.random.randint(-10,100,(20,15))\n",
    "\n",
    "# sample answer\n",
    "sample = (np.any(A < 0, axis=0)).sum()\n",
    "\n",
    "# input your answer\n",
    "code = input(\"Input your answer: \")\n",
    "exec(\"ans = \" + code)\n",
    "pts = int(np.array_equal(np.array(sample),np.array(ans)))\n",
    "\n",
    "# print \n",
    "print(f\"You got {pts} point(s) for your answer.\")"
   ]
  },
  {
   "cell_type": "markdown",
   "id": "dc76bf7d",
   "metadata": {},
   "source": [
    "**Version 3.**\n",
    "\n",
    "Let A be a two-dimensional NumPy array with integer values. Write a single-line python code that counts the number of rows of A, that have negative values.\n",
    "\n",
    "For example, if ``A = np.array([[1,2],[-3,4]])``, your code should return ``1``."
   ]
  },
  {
   "cell_type": "code",
   "execution_count": null,
   "id": "e9182fdf",
   "metadata": {},
   "outputs": [],
   "source": [
    "import numpy as np\n",
    "\n",
    "# sample array\n",
    "A = np.random.randint(-10,100,(20,15))\n",
    "\n",
    "# sample answer\n",
    "sample = (np.any(A < 0, axis=1)).sum()\n",
    "\n",
    "# input your answer\n",
    "code = input(\"Input your answer: \")\n",
    "exec(\"ans = \" + code)\n",
    "pts = int(np.array_equal(np.array(sample),np.array(ans)))\n",
    "\n",
    "# print \n",
    "print(f\"You got {pts} point(s) for your answer.\")"
   ]
  },
  {
   "cell_type": "markdown",
   "id": "2d1c2b80",
   "metadata": {},
   "source": [
    "**Version 4.**\n",
    "\n",
    "Let A be a two-dimensional NumPy array with integer values. Write a single-line python code that counts the number of values in each row of A, that are smaller that the overall mean of A.\n",
    "\n",
    "For example, if ``A = np.array([[1,2],[-3,4]])``, your code should return ``array([0, 1])``"
   ]
  },
  {
   "cell_type": "code",
   "execution_count": null,
   "id": "073849f6",
   "metadata": {},
   "outputs": [],
   "source": [
    "import numpy as np\n",
    "\n",
    "# sample array\n",
    "A = np.random.randint(-10,100,(20,15))\n",
    "\n",
    "# sample answer\n",
    "sample = (A < A.mean()).sum(axis=1)\n",
    "\n",
    "# input your answer\n",
    "code = input(\"Input your answer: \")\n",
    "exec(\"ans = \" + code)\n",
    "pts = int(np.array_equal(np.array(sample),np.array(ans)))\n",
    "\n",
    "# print \n",
    "print(f\"You got {pts} point(s) for your answer.\")"
   ]
  },
  {
   "cell_type": "markdown",
   "id": "25655c3e",
   "metadata": {},
   "source": [
    "### Question 4."
   ]
  },
  {
   "cell_type": "markdown",
   "id": "8ebc9923",
   "metadata": {},
   "source": [
    "**Version 1.**\n",
    "\n",
    "Write a single-line python code that creates an empty (filled with zeros) structured array ``Planets`` of shape (8,) using the compound data type specification: ``(planet:U10, distance:uint16, temperature:uint8)``."
   ]
  },
  {
   "cell_type": "code",
   "execution_count": null,
   "id": "4716d53c",
   "metadata": {},
   "outputs": [],
   "source": [
    "import numpy as np\n",
    "\n",
    "# sample answer\n",
    "Planets = np.zeros(8, dtype={'names':('planet', 'distance', 'temperature'), 'formats':('U10', 'uint16', 'uint8')})\n",
    "\n",
    "# input your answer\n",
    "code = input(\"Write your answer: \")\n",
    "exec(\"ans = \" + code)\n",
    "pts = int(np.array_equal(np.array(Planets),np.array(ans)))\n",
    "\n",
    "# print \n",
    "print(f\"You got {pts} point(s) for your answer.\")"
   ]
  },
  {
   "cell_type": "markdown",
   "id": "fe5e2f14",
   "metadata": {},
   "source": [
    "**Version 2.**\n",
    "\n",
    "Write a single-line python code that creates an empty (filled with zeros) structured array ``Continents`` of shape (7,) using the compound data type specification: ``(continent:U20, area:uint16, population:uint32)``."
   ]
  },
  {
   "cell_type": "code",
   "execution_count": null,
   "id": "45d2a3de",
   "metadata": {},
   "outputs": [],
   "source": [
    "import numpy as np\n",
    "\n",
    "# sample answer\n",
    "Continents = np.zeros(7, dtype={'names':('continent', 'area', 'population'), 'formats':('U20', 'uint16', 'uint32')})\n",
    "\n",
    "# input your answer\n",
    "code = input(\"Write your answer: \")\n",
    "exec(\"ans = \" + code)\n",
    "pts = int(np.array_equal(np.array(Continents),np.array(ans)))\n",
    "\n",
    "# print \n",
    "print(f\"You got {pts} point(s) for your answer.\")"
   ]
  },
  {
   "cell_type": "markdown",
   "id": "4e60af19",
   "metadata": {},
   "source": [
    "**Version 3.**\n",
    "\n",
    "Write a single-line python code that creates an empty (filled with zeros) structured array ``Countries`` of shape (193,) using the compound data type specification: ``(country:U20, capital:U15, population:uint32)``."
   ]
  },
  {
   "cell_type": "code",
   "execution_count": null,
   "id": "8baabf1f",
   "metadata": {},
   "outputs": [],
   "source": [
    "import numpy as np\n",
    "\n",
    "# sample answer\n",
    "Countries = np.zeros(193, dtype={'names':('country', 'capital', 'population'), 'formats':('U20', 'U15', 'uint32')})\n",
    "\n",
    "# input your answer\n",
    "code = input(\"Write your answer: \")\n",
    "exec(\"ans = \" + code)\n",
    "pts = int(np.array_equal(np.array(Countries),np.array(ans)))\n",
    "\n",
    "# print \n",
    "print(f\"You got {pts} point(s) for your answer.\")"
   ]
  },
  {
   "cell_type": "markdown",
   "id": "ed110edd",
   "metadata": {},
   "source": [
    "**Version 4.**\n",
    "\n",
    "Write a single-line python code that creates an empty (filled with zeros) structured array ``Oceans`` of shape (6,) using the compound data type specification: ``(ocean:U20, area:uint16, volume:uint16)``."
   ]
  },
  {
   "cell_type": "code",
   "execution_count": null,
   "id": "f1f3338f",
   "metadata": {},
   "outputs": [],
   "source": [
    "import numpy as np\n",
    "\n",
    "# sample answer\n",
    "Oceans = np.zeros(6, dtype={'names':('ocean', 'area', 'volume'), 'formats':('U20', 'uint16', 'uint16')})\n",
    "\n",
    "# input your answer\n",
    "code = input(\"Write your answer: \")\n",
    "exec(\"ans = \" + code)\n",
    "pts = int(np.array_equal(np.array(Oceans),np.array(ans)))\n",
    "\n",
    "# print \n",
    "print(f\"You got {pts} point(s) for your answer.\")"
   ]
  }
 ],
 "metadata": {
  "kernelspec": {
   "display_name": "Python 3 (ipykernel)",
   "language": "python",
   "name": "python3"
  },
  "language_info": {
   "codemirror_mode": {
    "name": "ipython",
    "version": 3
   },
   "file_extension": ".py",
   "mimetype": "text/x-python",
   "name": "python",
   "nbconvert_exporter": "python",
   "pygments_lexer": "ipython3",
   "version": "3.9.13"
  },
  "latex_envs": {
   "LaTeX_envs_menu_present": true,
   "autoclose": false,
   "autocomplete": true,
   "bibliofile": "biblio.bib",
   "cite_by": "apalike",
   "current_citInitial": 1,
   "eqLabelWithNumbers": true,
   "eqNumInitial": 1,
   "hotkeys": {
    "equation": "Ctrl-E",
    "itemize": "Ctrl-I"
   },
   "labels_anchors": false,
   "latex_user_defs": false,
   "report_style_numbering": false,
   "user_envs_cfg": false
  }
 },
 "nbformat": 4,
 "nbformat_minor": 5
}
