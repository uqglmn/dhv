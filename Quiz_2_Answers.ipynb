{
 "cells": [
  {
   "cell_type": "markdown",
   "id": "698b262d",
   "metadata": {},
   "source": [
    "## DHV Quiz 2"
   ]
  },
  {
   "cell_type": "markdown",
   "id": "8f6eb882",
   "metadata": {},
   "source": [
    "**Canvas Quiz Instructions:**\n",
    "\n",
    "In this quiz, assume that NumPy is imported as np. Your answers to questions 2-4 will me marked automatically by python.\n",
    "\n",
    "You can check your answers by executing the cells below."
   ]
  },
  {
   "cell_type": "markdown",
   "id": "3adb50d7",
   "metadata": {},
   "source": [
    "### Question 2"
   ]
  },
  {
   "cell_type": "markdown",
   "id": "75ebf1d3",
   "metadata": {},
   "source": [
    "**Version 1.**\n",
    "\n",
    "Let A be a one-dimensional NumPy array with positive integer values. Write a **single-line python code** that computes the sum of values of A, that are within one standard deviation from the mean of A.\n",
    "\n",
    "For example, if ``A = np.array([1,2,3,4,5,6,7,8,9,10])``, your code should return ``33``."
   ]
  },
  {
   "cell_type": "code",
   "execution_count": null,
   "id": "5842212d",
   "metadata": {},
   "outputs": [],
   "source": [
    "import numpy as np\n",
    "\n",
    "# sample array\n",
    "A = np.random.randint(1,100,20)\n",
    "\n",
    "# sample answer\n",
    "sample = A[ (A >= (A.mean()-A.std())) & (A <= (A.mean()+A.std())) ].sum()\n",
    "\n",
    "# input your answer\n",
    "code = input(\"Input your answer: \")\n",
    "exec(\"ans = \" + code)\n",
    "pts = int(np.array_equal(np.array(sample),np.array(ans)))\n",
    "\n",
    "# print \n",
    "print(f\"You got {pts} point(s) for your answer.\")"
   ]
  },
  {
   "cell_type": "markdown",
   "id": "6f777a9c",
   "metadata": {},
   "source": [
    "**Version 2.**\n",
    "\n",
    "Let A be a one-dimensional NumPy array with positive integer values. Write a single-line python code that computes the mean of square-roots of every other value of A.\n",
    "\n",
    "For example, if ``A = np.array([1,2,3,4])``, your code should return ``1.366``."
   ]
  },
  {
   "cell_type": "code",
   "execution_count": null,
   "id": "c1b2b554",
   "metadata": {},
   "outputs": [],
   "source": [
    "import numpy as np\n",
    "\n",
    "# sample array\n",
    "A = np.random.randint(1,100,20)\n",
    "\n",
    "# sample answer\n",
    "sample = (np.sqrt(A[::2])).mean()\n",
    "\n",
    "# input your answer\n",
    "code = input(\"Input your answer: \")\n",
    "exec(\"ans = \" + code)\n",
    "pts = int(np.round(sol,3) == np.round(ans,3))\n",
    "\n",
    "# print \n",
    "print(f\"You got {pts} point(s) for your answer.\")"
   ]
  },
  {
   "cell_type": "markdown",
   "id": "a586284c",
   "metadata": {},
   "source": [
    "**Version 3.**\n",
    "\n",
    "Let A be a one-dimensional NumPy array with positive integer values. Write a single-line python code that computes the sum of squares of all even values of A.\n",
    "\n",
    "For example, if ``A = np.array([1,2,3,4])``, your code should return ``20``."
   ]
  },
  {
   "cell_type": "code",
   "execution_count": null,
   "id": "42663a65",
   "metadata": {},
   "outputs": [],
   "source": [
    "import numpy as np\n",
    "\n",
    "# sample array\n",
    "A = np.random.randint(1,100,20)\n",
    "\n",
    "# sample answer\n",
    "sample = (A[A%2==0]**2).sum()\n",
    "\n",
    "# input your answer\n",
    "code = input(\"Input your answer: \")\n",
    "exec(\"ans = \" + code)\n",
    "pts = int(np.array_equal(np.array(sample),np.array(ans)))\n",
    "\n",
    "# print \n",
    "print(f\"You got {pts} point(s) for your answer.\")"
   ]
  },
  {
   "cell_type": "markdown",
   "id": "ace1ee0f",
   "metadata": {},
   "source": [
    "**Version 4.**\n",
    "\n",
    "Let A be a one-dimensional NumPy array with positive integer values. Write a single-line python code that computes the product of squares of all odd values of A.\n",
    "\n",
    "For example, if ``A = np.array([1,2,3,4])``, your code should return ``9``."
   ]
  },
  {
   "cell_type": "code",
   "execution_count": null,
   "id": "9421d00c",
   "metadata": {},
   "outputs": [],
   "source": [
    "import numpy as np\n",
    "\n",
    "# sample array\n",
    "A = np.random.randint(1,100,20)\n",
    "\n",
    "# sample answer\n",
    "sample = (A[A%2==1]**2).prod()\n",
    "\n",
    "# input your answer\n",
    "code = input(\"Input your answer: \")\n",
    "exec(\"ans = \" + code)\n",
    "pts = int(np.array_equal(np.array(sample),np.array(ans)))\n",
    "\n",
    "# print \n",
    "print(f\"You got {pts} point(s) for your answer.\")"
   ]
  },
  {
   "cell_type": "markdown",
   "id": "ddd462a1",
   "metadata": {},
   "source": [
    "**Version 5.**\n",
    "\n",
    "Let A be a one-dimensional NumPy array with positive integer values. Write a single-line python code that computes the sum of values of A, that are outside one standard deviation from the mean of A.\n",
    "\n",
    "For example, if ``A = np.array([1,2,3,4,5,6,7,8,9,10])``, your code should return ``22``."
   ]
  },
  {
   "cell_type": "code",
   "execution_count": null,
   "id": "86bad137",
   "metadata": {},
   "outputs": [],
   "source": [
    "import numpy as np\n",
    "\n",
    "# sample array\n",
    "A = np.random.randint(1,100,20)\n",
    "\n",
    "# sample answer\n",
    "sample = A[ (A < (A.mean()-A.std())) | (A > (A.mean()+A.std())) ].sum()\n",
    "\n",
    "# input your answer\n",
    "code = input(\"Input your answer: \")\n",
    "exec(\"ans = \" + code)\n",
    "pts = int(np.array_equal(np.array(sample),np.array(ans)))\n",
    "\n",
    "# print \n",
    "print(f\"You got {pts} point(s) for your answer.\")"
   ]
  },
  {
   "cell_type": "markdown",
   "id": "0a871b07",
   "metadata": {},
   "source": [
    "### Question 3."
   ]
  },
  {
   "cell_type": "markdown",
   "id": "7c2a91a6",
   "metadata": {},
   "source": [
    "**Version 1.**\n",
    "\n",
    "Let A be a two-dimensional NumPy array with integer values. Write a single-line python code that counts the number of values in each column of A, that are bigger that the overall mean of A.\n",
    "\n",
    "For example, if ``A = np.array([[1,2],[-3,4]])``, your code should return ``array([0, 2])``"
   ]
  },
  {
   "cell_type": "code",
   "execution_count": null,
   "id": "01390001",
   "metadata": {},
   "outputs": [],
   "source": [
    "import numpy as np\n",
    "\n",
    "# sample array\n",
    "A = np.random.randint(-10,100,(20,15))\n",
    "\n",
    "# sample answer\n",
    "sample = (A>A.mean()).sum(axis=0)\n",
    "\n",
    "# input your answer\n",
    "code = input(\"Input your answer: \")\n",
    "exec(\"ans = \" + code)\n",
    "pts = int(np.array_equal(np.array(sample),np.array(ans)))\n",
    "\n",
    "# print \n",
    "print(f\"You got {pts} point(s) for your answer.\")"
   ]
  },
  {
   "cell_type": "markdown",
   "id": "44b27a87",
   "metadata": {},
   "source": [
    "**Version 2.**\n",
    "\n",
    "Let A be a two-dimensional NumPy array with integer values. Write a single-line python code that counts the number of columns of A, that have negative values.\n",
    "\n",
    "For example, if ``A = np.array([[1,2],[-3,4]])``, your code should return ``1``."
   ]
  },
  {
   "cell_type": "code",
   "execution_count": null,
   "id": "6bf36986",
   "metadata": {},
   "outputs": [],
   "source": [
    "import numpy as np\n",
    "\n",
    "# sample array\n",
    "A = np.random.randint(-10,100,(20,15))\n",
    "\n",
    "# sample answer\n",
    "sample = (np.any(A < 0, axis=0)).sum()\n",
    "\n",
    "# input your answer\n",
    "code = input(\"Input your answer: \")\n",
    "exec(\"ans = \" + code)\n",
    "pts = int(np.array_equal(np.array(sample),np.array(ans)))\n",
    "\n",
    "# print \n",
    "print(f\"You got {pts} point(s) for your answer.\")"
   ]
  },
  {
   "cell_type": "markdown",
   "id": "6146da38",
   "metadata": {},
   "source": [
    "**Version 3.**\n",
    "\n",
    "Let A be a two-dimensional NumPy array with integer values. Write a single-line python code that counts the number of rows of A, that have negative values.\n",
    "\n",
    "For example, if ``A = np.array([[1,2],[-3,4]])``, your code should return ``1``."
   ]
  },
  {
   "cell_type": "code",
   "execution_count": null,
   "id": "609803fc",
   "metadata": {},
   "outputs": [],
   "source": [
    "import numpy as np\n",
    "\n",
    "# sample array\n",
    "A = np.random.randint(-10,100,(20,15))\n",
    "\n",
    "# sample answer\n",
    "sample = (np.any(A < 0, axis=1)).sum()\n",
    "\n",
    "# input your answer\n",
    "code = input(\"Input your answer: \")\n",
    "exec(\"ans = \" + code)\n",
    "pts = int(np.array_equal(np.array(sample),np.array(ans)))\n",
    "\n",
    "# print \n",
    "print(f\"You got {pts} point(s) for your answer.\")"
   ]
  },
  {
   "cell_type": "markdown",
   "id": "4dd70ef5",
   "metadata": {},
   "source": [
    "**Version 4.**\n",
    "\n",
    "Let A be a two-dimensional NumPy array with integer values. Write a single-line python code that counts the number of values in each row of A, that are smaller that the overall mean of A.\n",
    "\n",
    "For example, if ``A = np.array([[1,2],[-3,4]])``, your code should return ``array([0, 1])``"
   ]
  },
  {
   "cell_type": "code",
   "execution_count": null,
   "id": "645b3451",
   "metadata": {},
   "outputs": [],
   "source": [
    "import numpy as np\n",
    "\n",
    "# sample array\n",
    "A = np.random.randint(-10,100,(20,15))\n",
    "\n",
    "# sample answer\n",
    "sample = (A < A.mean()).sum(axis=1)\n",
    "\n",
    "# input your answer\n",
    "code = input(\"Input your answer: \")\n",
    "exec(\"ans = \" + code)\n",
    "pts = int(np.array_equal(np.array(sample),np.array(ans)))\n",
    "\n",
    "# print \n",
    "print(f\"You got {pts} point(s) for your answer.\")"
   ]
  },
  {
   "cell_type": "markdown",
   "id": "4a3a3469",
   "metadata": {},
   "source": [
    "### Question 4."
   ]
  },
  {
   "cell_type": "markdown",
   "id": "d303ca7a",
   "metadata": {},
   "source": [
    "**Version 1.**\n",
    "\n",
    "Write a single-line python code that creates an empty (filled with zeros) structured array ``Planets`` of shape (8,) using the compound data type specification: ``(planet:U10, distance:uint16, temperature:uint8)``."
   ]
  },
  {
   "cell_type": "code",
   "execution_count": null,
   "id": "df15edb4",
   "metadata": {},
   "outputs": [],
   "source": [
    "import numpy as np\n",
    "\n",
    "# sample answer\n",
    "Planets = np.zeros(8, dtype={'names':('planet', 'distance', 'temperature'), 'formats':('U10', 'uint16', 'uint8')})\n",
    "\n",
    "# input your answer\n",
    "code = input(\"Write your answer: \")\n",
    "exec(\"ans = \" + code)\n",
    "pts = int(np.array_equal(np.array(Planets),np.array(ans)))\n",
    "\n",
    "# print \n",
    "print(f\"You got {pts} point(s) for your answer.\")"
   ]
  },
  {
   "cell_type": "markdown",
   "id": "32eaed79",
   "metadata": {},
   "source": [
    "**Version 2.**\n",
    "\n",
    "Write a single-line python code that creates an empty (filled with zeros) structured array ``Continents`` of shape (7,) using the compound data type specification: ``(continent:U20, area:uint16, population:uint32)``."
   ]
  },
  {
   "cell_type": "code",
   "execution_count": null,
   "id": "a46f83fe",
   "metadata": {},
   "outputs": [],
   "source": [
    "import numpy as np\n",
    "\n",
    "# sample answer\n",
    "Continents = np.zeros(7, dtype={'names':('continent', 'area', 'population'), 'formats':('U20', 'uint16', 'uint32')})\n",
    "\n",
    "# input your answer\n",
    "code = input(\"Write your answer: \")\n",
    "exec(\"ans = \" + code)\n",
    "pts = int(np.array_equal(np.array(Continents),np.array(ans)))\n",
    "\n",
    "# print \n",
    "print(f\"You got {pts} point(s) for your answer.\")"
   ]
  },
  {
   "cell_type": "markdown",
   "id": "39a94758",
   "metadata": {},
   "source": [
    "**Version 3.**\n",
    "\n",
    "Write a single-line python code that creates an empty (filled with zeros) structured array ``Countries`` of shape (193,) using the compound data type specification: ``(country:U20, capital:U15, population:uint32)``."
   ]
  },
  {
   "cell_type": "code",
   "execution_count": null,
   "id": "cc0b004d",
   "metadata": {},
   "outputs": [],
   "source": [
    "import numpy as np\n",
    "\n",
    "# sample answer\n",
    "Countries = np.zeros(193, dtype={'names':('country', 'capital', 'population'), 'formats':('U20', 'U15', 'uint32')})\n",
    "\n",
    "# input your answer\n",
    "code = input(\"Write your answer: \")\n",
    "exec(\"ans = \" + code)\n",
    "pts = int(np.array_equal(np.array(Countries),np.array(ans)))\n",
    "\n",
    "# print \n",
    "print(f\"You got {pts} point(s) for your answer.\")"
   ]
  },
  {
   "cell_type": "markdown",
   "id": "9293f645",
   "metadata": {},
   "source": [
    "**Version 4.**\n",
    "\n",
    "Write a single-line python code that creates an empty (filled with zeros) structured array ``Oceans`` of shape (6,) using the compound data type specification: ``(ocean:U20, area:uint16, volume:uint16)``."
   ]
  },
  {
   "cell_type": "code",
   "execution_count": null,
   "id": "835d5518",
   "metadata": {},
   "outputs": [],
   "source": [
    "import numpy as np\n",
    "\n",
    "# sample answer\n",
    "Oceans = np.zeros(6, dtype={'names':('ocean', 'area', 'volume'), 'formats':('U20', 'uint16', 'uint16')})\n",
    "\n",
    "# input your answer\n",
    "code = input(\"Write your answer: \")\n",
    "exec(\"ans = \" + code)\n",
    "pts = int(np.array_equal(np.array(Oceans),np.array(ans)))\n",
    "\n",
    "# print \n",
    "print(f\"You got {pts} point(s) for your answer.\")"
   ]
  }
 ],
 "metadata": {
  "kernelspec": {
   "display_name": "Python 3 (ipykernel)",
   "language": "python",
   "name": "python3"
  },
  "language_info": {
   "codemirror_mode": {
    "name": "ipython",
    "version": 3
   },
   "file_extension": ".py",
   "mimetype": "text/x-python",
   "name": "python",
   "nbconvert_exporter": "python",
   "pygments_lexer": "ipython3",
   "version": "3.9.13"
  },
  "latex_envs": {
   "LaTeX_envs_menu_present": true,
   "autoclose": false,
   "autocomplete": true,
   "bibliofile": "biblio.bib",
   "cite_by": "apalike",
   "current_citInitial": 1,
   "eqLabelWithNumbers": true,
   "eqNumInitial": 1,
   "hotkeys": {
    "equation": "Ctrl-E",
    "itemize": "Ctrl-I"
   },
   "labels_anchors": false,
   "latex_user_defs": false,
   "report_style_numbering": false,
   "user_envs_cfg": false
  }
 },
 "nbformat": 4,
 "nbformat_minor": 5
}
