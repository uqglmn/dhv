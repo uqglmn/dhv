{
 "cells": [
  {
   "cell_type": "markdown",
   "id": "698b262d",
   "metadata": {},
   "source": [
    "## DHV Quiz 2"
   ]
  },
  {
   "cell_type": "markdown",
   "id": "a5a35de9",
   "metadata": {},
   "source": [
    "<a href=\"https://colab.research.google.com/github/uqglmn/dhv/blob/main/Quiz_2_Answers.ipynb\" target=\"_parent\"><img src=\"https://colab.research.google.com/assets/colab-badge.svg\" alt=\"Open In Colab\"/></a>"
   ]
  },
  {
   "cell_type": "markdown",
   "id": "43124bc8",
   "metadata": {},
   "source": [
    "**Canvas Quiz Instructions:**\n",
    "\n",
    "In this quiz, assume that NumPy is imported as np. Your answers to questions 2-4 will me marked automatically by python.\n",
    "\n",
    "You can check your answers by executing the cells below."
   ]
  },
  {
   "cell_type": "markdown",
   "id": "fd500fce",
   "metadata": {},
   "source": [
    "### Question 2"
   ]
  },
  {
   "cell_type": "markdown",
   "id": "c8d16c2a",
   "metadata": {},
   "source": [
    "**Version 1.**\n",
    "\n",
    "Let A be a one-dimensional NumPy array with positive integer values. Write a **single-line python code** that computes the sum of values of A, that are within one standard deviation from the mean of A.\n",
    "\n",
    "For example, if ``A = np.array([1,2,3,4,5,6,7,8,9,10])``, your code should return ``33``."
   ]
  },
  {
   "cell_type": "code",
   "execution_count": null,
   "id": "10611287",
   "metadata": {},
   "outputs": [],
   "source": [
    "import numpy as np\n",
    "\n",
    "# sample array\n",
    "A = np.random.randint(1,100,100)\n",
    "\n",
    "# sample answer\n",
    "sample = A[ (A >= (A.mean()-A.std())) & (A <= (A.mean()+A.std())) ].sum()\n",
    "\n",
    "# input your answer\n",
    "code = input(\"Input your answer: \")\n",
    "exec(\"ans = \" + code)\n",
    "pts = int(np.array_equal(np.array(sample),np.array(ans)))\n",
    "\n",
    "# print \n",
    "print(f\"You got {pts} point(s) for your answer.\")"
   ]
  },
  {
   "cell_type": "markdown",
   "id": "81bd4f48",
   "metadata": {},
   "source": [
    "**Version 2.**\n",
    "\n",
    "Let A be a one-dimensional NumPy array with positive integer values. Write a single-line python code that computes the mean of square-roots of every other value of A.\n",
    "\n",
    "For example, if ``A = np.array([1,2,3,4])``, your code should return ``1.366``."
   ]
  },
  {
   "cell_type": "code",
   "execution_count": null,
   "id": "b83d2239",
   "metadata": {},
   "outputs": [],
   "source": [
    "import numpy as np\n",
    "\n",
    "# sample array\n",
    "A = np.random.randint(1,100,100)\n",
    "\n",
    "# sample answer\n",
    "sample = (np.sqrt(A[::2])).mean()\n",
    "\n",
    "# input your answer\n",
    "code = input(\"Input your answer: \")\n",
    "exec(\"ans = \" + code)\n",
    "pts = int(np.round(sol,3) == np.round(ans,3))\n",
    "\n",
    "# print \n",
    "print(f\"You got {pts} point(s) for your answer.\")"
   ]
  },
  {
   "cell_type": "markdown",
   "id": "b86ebf46",
   "metadata": {},
   "source": [
    "**Version 3.**\n",
    "\n",
    "Let A be a one-dimensional NumPy array with positive integer values. Write a single-line python code that computes the sum of squares of all even values of A.\n",
    "\n",
    "For example, if ``A = np.array([1,2,3,4])``, your code should return ``20``."
   ]
  },
  {
   "cell_type": "code",
   "execution_count": null,
   "id": "20a240a7",
   "metadata": {},
   "outputs": [],
   "source": [
    "import numpy as np\n",
    "\n",
    "# sample array\n",
    "A = np.random.randint(1,100,100)\n",
    "\n",
    "# sample answer\n",
    "sample = (A[A%2==0]**2).sum()\n",
    "\n",
    "# input your answer\n",
    "code = input(\"Input your answer: \")\n",
    "exec(\"ans = \" + code)\n",
    "pts = int(np.array_equal(np.array(sample),np.array(ans)))\n",
    "\n",
    "# print \n",
    "print(f\"You got {pts} point(s) for your answer.\")"
   ]
  },
  {
   "cell_type": "markdown",
   "id": "6d7f7aa7",
   "metadata": {},
   "source": [
    "**Version 4.**\n",
    "\n",
    "Let A be a one-dimensional NumPy array with positive integer values. Write a single-line python code that computes the product of squares of all odd values of A.\n",
    "\n",
    "For example, if ``A = np.array([1,2,3,4])``, your code should return ``9``."
   ]
  },
  {
   "cell_type": "code",
   "execution_count": null,
   "id": "545d6be5",
   "metadata": {},
   "outputs": [],
   "source": [
    "import numpy as np\n",
    "\n",
    "# sample array\n",
    "A = np.random.randint(1,100,100)\n",
    "\n",
    "# sample answer\n",
    "sample = (A[A%2==1]**2).prod()\n",
    "\n",
    "# input your answer\n",
    "code = input(\"Input your answer: \")\n",
    "exec(\"ans = \" + code)\n",
    "pts = int(np.array_equal(np.array(sample),np.array(ans)))\n",
    "\n",
    "# print \n",
    "print(f\"You got {pts} point(s) for your answer.\")"
   ]
  },
  {
   "cell_type": "markdown",
   "id": "6724220e",
   "metadata": {},
   "source": [
    "**Version 5.**\n",
    "\n",
    "Let A be a one-dimensional NumPy array with positive integer values. Write a single-line python code that computes the sum of values of A, that are outside one standard deviation from the mean of A.\n",
    "\n",
    "For example, if ``A = np.array([1,2,3,4,5,6,7,8,9,10])``, your code should return ``22``."
   ]
  },
  {
   "cell_type": "code",
   "execution_count": null,
   "id": "9a611093",
   "metadata": {},
   "outputs": [],
   "source": [
    "import numpy as np\n",
    "\n",
    "# sample array\n",
    "A = np.random.randint(1,100,100)\n",
    "\n",
    "# sample answer\n",
    "sample = A[ (A < (A.mean()-A.std())) | (A > (A.mean()+A.std())) ].sum()\n",
    "\n",
    "# input your answer\n",
    "code = input(\"Input your answer: \")\n",
    "exec(\"ans = \" + code)\n",
    "pts = int(np.array_equal(np.array(sample),np.array(ans)))\n",
    "\n",
    "# print \n",
    "print(f\"You got {pts} point(s) for your answer.\")"
   ]
  },
  {
   "cell_type": "markdown",
   "id": "539854bb",
   "metadata": {},
   "source": [
    "### Question 3."
   ]
  },
  {
   "cell_type": "markdown",
   "id": "25f3ee6c",
   "metadata": {},
   "source": [
    "**Version 1.**\n",
    "\n",
    "Let A be a two-dimensional NumPy array with integer values. Write a single-line python code that counts the number of values in each column of A, that are bigger that the overall mean of A.\n",
    "\n",
    "For example, if ``A = np.array([[1,2],[-3,4]])``, your code should return ``array([0, 2])``"
   ]
  },
  {
   "cell_type": "code",
   "execution_count": null,
   "id": "9ce79c41",
   "metadata": {},
   "outputs": [],
   "source": [
    "import numpy as np\n",
    "\n",
    "# sample array\n",
    "A = np.random.randint(-4,100,(40,20))\n",
    "\n",
    "# sample answer\n",
    "sample = (A>A.mean()).sum(axis=0)\n",
    "\n",
    "# input your answer\n",
    "code = input(\"Input your answer: \")\n",
    "exec(\"ans = \" + code)\n",
    "pts = int(np.array_equal(np.array(sample),np.array(ans)))\n",
    "\n",
    "# print \n",
    "print(f\"You got {pts} point(s) for your answer.\")"
   ]
  },
  {
   "cell_type": "markdown",
   "id": "d10171ec",
   "metadata": {},
   "source": [
    "**Version 2.**\n",
    "\n",
    "Let A be a two-dimensional NumPy array with integer values. Write a single-line python code that counts the number of columns of A, that have negative values.\n",
    "\n",
    "For example, if ``A = np.array([[1,2],[-3,4]])``, your code should return ``1``."
   ]
  },
  {
   "cell_type": "code",
   "execution_count": 10,
   "id": "cfa6d75b",
   "metadata": {},
   "outputs": [
    {
     "name": "stdout",
     "output_type": "stream",
     "text": [
      "Input your answer: np.sum(np.any(A < 0, axis=0))\n",
      "You got 1 point(s) for your answer.\n"
     ]
    }
   ],
   "source": [
    "import numpy as np\n",
    "\n",
    "# sample array\n",
    "A = np.random.randint(-4,100,(40,20))\n",
    "\n",
    "# sample answer\n",
    "sample = (np.any(A < 0, axis=0)).sum()\n",
    "\n",
    "# input your answer\n",
    "code = input(\"Input your answer: \")\n",
    "exec(\"ans = \" + code)\n",
    "pts = int(np.array_equal(np.array(sample),np.array(ans)))\n",
    "\n",
    "# print \n",
    "print(f\"You got {pts} point(s) for your answer.\")"
   ]
  },
  {
   "cell_type": "markdown",
   "id": "de81594d",
   "metadata": {},
   "source": [
    "**Version 3.**\n",
    "\n",
    "Let A be a two-dimensional NumPy array with integer values. Write a single-line python code that counts the number of rows of A, that have negative values.\n",
    "\n",
    "For example, if ``A = np.array([[1,2],[-3,4]])``, your code should return ``1``."
   ]
  },
  {
   "cell_type": "code",
   "execution_count": null,
   "id": "4c3fae1d",
   "metadata": {},
   "outputs": [],
   "source": [
    "import numpy as np\n",
    "\n",
    "# sample array\n",
    "A = np.random.randint(-4,100,(40,20))\n",
    "\n",
    "# sample answer\n",
    "sample = (np.any(A < 0, axis=1)).sum()\n",
    "\n",
    "# input your answer\n",
    "code = input(\"Input your answer: \")\n",
    "exec(\"ans = \" + code)\n",
    "pts = int(np.array_equal(np.array(sample),np.array(ans)))\n",
    "\n",
    "# print \n",
    "print(f\"You got {pts} point(s) for your answer.\")"
   ]
  },
  {
   "cell_type": "markdown",
   "id": "0a83dd9a",
   "metadata": {},
   "source": [
    "**Version 4.**\n",
    "\n",
    "Let A be a two-dimensional NumPy array with integer values. Write a single-line python code that counts the number of values in each row of A, that are smaller that the overall mean of A.\n",
    "\n",
    "For example, if ``A = np.array([[1,2],[-3,4]])``, your code should return ``array([0, 1])``"
   ]
  },
  {
   "cell_type": "code",
   "execution_count": null,
   "id": "ea8b2c88",
   "metadata": {},
   "outputs": [],
   "source": [
    "import numpy as np\n",
    "\n",
    "# sample array\n",
    "A = np.random.randint(-4,100,(40,20))\n",
    "\n",
    "# sample answer\n",
    "sample = (A < A.mean()).sum(axis=1)\n",
    "\n",
    "# input your answer\n",
    "code = input(\"Input your answer: \")\n",
    "exec(\"ans = \" + code)\n",
    "pts = int(np.array_equal(np.array(sample),np.array(ans)))\n",
    "\n",
    "# print \n",
    "print(f\"You got {pts} point(s) for your answer.\")"
   ]
  },
  {
   "cell_type": "markdown",
   "id": "0dd3d9e6",
   "metadata": {},
   "source": [
    "### Question 4."
   ]
  },
  {
   "cell_type": "markdown",
   "id": "467ddbad",
   "metadata": {},
   "source": [
    "**Version 1.**\n",
    "\n",
    "Write a single-line python code that creates an empty (filled with zeros) structured array ``Planets`` of shape (8,) using the compound data type specification: ``(planet:U10, distance:uint16, temperature:uint8)``."
   ]
  },
  {
   "cell_type": "code",
   "execution_count": 1,
   "id": "0286e8ce",
   "metadata": {},
   "outputs": [
    {
     "name": "stdout",
     "output_type": "stream",
     "text": [
      "Write your answer: np.zeros((8), dtype=[('planet', 'U10'), ('distance', 'unit16'), ('temperature', 'unit8')])\n"
     ]
    },
    {
     "ename": "TypeError",
     "evalue": "data type 'unit16' not understood",
     "output_type": "error",
     "traceback": [
      "\u001b[0;31m---------------------------------------------------------------------------\u001b[0m",
      "\u001b[0;31mTypeError\u001b[0m                                 Traceback (most recent call last)",
      "\u001b[0;32m/tmp/ipykernel_139372/2023640052.py\u001b[0m in \u001b[0;36m<module>\u001b[0;34m\u001b[0m\n\u001b[1;32m      6\u001b[0m \u001b[0;31m# input your answer\u001b[0m\u001b[0;34m\u001b[0m\u001b[0;34m\u001b[0m\u001b[0m\n\u001b[1;32m      7\u001b[0m \u001b[0mcode\u001b[0m \u001b[0;34m=\u001b[0m \u001b[0minput\u001b[0m\u001b[0;34m(\u001b[0m\u001b[0;34m\"Write your answer: \"\u001b[0m\u001b[0;34m)\u001b[0m\u001b[0;34m\u001b[0m\u001b[0;34m\u001b[0m\u001b[0m\n\u001b[0;32m----> 8\u001b[0;31m \u001b[0mexec\u001b[0m\u001b[0;34m(\u001b[0m\u001b[0;34m\"ans = \"\u001b[0m \u001b[0;34m+\u001b[0m \u001b[0mcode\u001b[0m\u001b[0;34m)\u001b[0m\u001b[0;34m\u001b[0m\u001b[0;34m\u001b[0m\u001b[0m\n\u001b[0m\u001b[1;32m      9\u001b[0m \u001b[0mpts\u001b[0m \u001b[0;34m=\u001b[0m \u001b[0mint\u001b[0m\u001b[0;34m(\u001b[0m\u001b[0mnp\u001b[0m\u001b[0;34m.\u001b[0m\u001b[0marray_equal\u001b[0m\u001b[0;34m(\u001b[0m\u001b[0mnp\u001b[0m\u001b[0;34m.\u001b[0m\u001b[0marray\u001b[0m\u001b[0;34m(\u001b[0m\u001b[0mPlanets\u001b[0m\u001b[0;34m)\u001b[0m\u001b[0;34m,\u001b[0m\u001b[0mnp\u001b[0m\u001b[0;34m.\u001b[0m\u001b[0marray\u001b[0m\u001b[0;34m(\u001b[0m\u001b[0mans\u001b[0m\u001b[0;34m)\u001b[0m\u001b[0;34m)\u001b[0m\u001b[0;34m)\u001b[0m\u001b[0;34m\u001b[0m\u001b[0;34m\u001b[0m\u001b[0m\n\u001b[1;32m     10\u001b[0m \u001b[0;34m\u001b[0m\u001b[0m\n",
      "\u001b[0;32m<string>\u001b[0m in \u001b[0;36m<module>\u001b[0;34m\u001b[0m\n",
      "\u001b[0;31mTypeError\u001b[0m: data type 'unit16' not understood"
     ]
    }
   ],
   "source": [
    "import numpy as np\n",
    "\n",
    "# sample answer\n",
    "Planets = np.zeros(8, dtype={'names':('planet', 'distance', 'temperature'), 'formats':('U10', 'uint16', 'uint8')})\n",
    "\n",
    "# input your answer\n",
    "code = input(\"Write your answer: \")\n",
    "exec(\"ans = \" + code)\n",
    "pts = int(np.array_equal(np.array(Planets),np.array(ans)))\n",
    "\n",
    "# print \n",
    "print(f\"You got {pts} point(s) for your answer.\")"
   ]
  },
  {
   "cell_type": "markdown",
   "id": "25daf98f",
   "metadata": {},
   "source": [
    "**Version 2.**\n",
    "\n",
    "Write a single-line python code that creates an empty (filled with zeros) structured array ``Continents`` of shape (7,) using the compound data type specification: ``(continent:U20, area:uint16, population:uint32)``."
   ]
  },
  {
   "cell_type": "code",
   "execution_count": null,
   "id": "37452a62",
   "metadata": {},
   "outputs": [],
   "source": [
    "import numpy as np\n",
    "\n",
    "# sample answer\n",
    "Continents = np.zeros(7, dtype={'names':('continent', 'area', 'population'), 'formats':('U20', 'uint16', 'uint32')})\n",
    "\n",
    "# input your answer\n",
    "code = input(\"Write your answer: \")\n",
    "exec(\"ans = \" + code)\n",
    "pts = int(np.array_equal(np.array(Continents),np.array(ans)))\n",
    "\n",
    "# print \n",
    "print(f\"You got {pts} point(s) for your answer.\")"
   ]
  },
  {
   "cell_type": "markdown",
   "id": "84c3c1c2",
   "metadata": {},
   "source": [
    "**Version 3.**\n",
    "\n",
    "Write a single-line python code that creates an empty (filled with zeros) structured array ``Countries`` of shape (193,) using the compound data type specification: ``(country:U20, capital:U15, population:uint32)``."
   ]
  },
  {
   "cell_type": "code",
   "execution_count": null,
   "id": "eb412fb7",
   "metadata": {},
   "outputs": [],
   "source": [
    "import numpy as np\n",
    "\n",
    "# sample answer\n",
    "Countries = np.zeros(193, dtype={'names':('country', 'capital', 'population'), 'formats':('U20', 'U15', 'uint32')})\n",
    "\n",
    "# input your answer\n",
    "code = input(\"Write your answer: \")\n",
    "exec(\"ans = \" + code)\n",
    "pts = int(np.array_equal(np.array(Countries),np.array(ans)))\n",
    "\n",
    "# print \n",
    "print(f\"You got {pts} point(s) for your answer.\")"
   ]
  },
  {
   "cell_type": "markdown",
   "id": "818490f8",
   "metadata": {},
   "source": [
    "**Version 4.**\n",
    "\n",
    "Write a single-line python code that creates an empty (filled with zeros) structured array ``Oceans`` of shape (6,) using the compound data type specification: ``(ocean:U20, area:uint16, volume:uint16)``."
   ]
  },
  {
   "cell_type": "code",
   "execution_count": null,
   "id": "f170d881",
   "metadata": {},
   "outputs": [],
   "source": [
    "import numpy as np\n",
    "\n",
    "# sample answer\n",
    "Oceans = np.zeros(6, dtype={'names':('ocean', 'area', 'volume'), 'formats':('U20', 'uint16', 'uint16')})\n",
    "\n",
    "# input your answer\n",
    "code = input(\"Write your answer: \")\n",
    "exec(\"ans = \" + code)\n",
    "pts = int(np.array_equal(np.array(Oceans),np.array(ans)))\n",
    "\n",
    "# print \n",
    "print(f\"You got {pts} point(s) for your answer.\")"
   ]
  }
 ],
 "metadata": {
  "kernelspec": {
   "display_name": "Python 3 (ipykernel)",
   "language": "python",
   "name": "python3"
  },
  "language_info": {
   "codemirror_mode": {
    "name": "ipython",
    "version": 3
   },
   "file_extension": ".py",
   "mimetype": "text/x-python",
   "name": "python",
   "nbconvert_exporter": "python",
   "pygments_lexer": "ipython3",
   "version": "3.9.13"
  },
  "latex_envs": {
   "LaTeX_envs_menu_present": true,
   "autoclose": false,
   "autocomplete": true,
   "bibliofile": "biblio.bib",
   "cite_by": "apalike",
   "current_citInitial": 1,
   "eqLabelWithNumbers": true,
   "eqNumInitial": 1,
   "hotkeys": {
    "equation": "Ctrl-E",
    "itemize": "Ctrl-I"
   },
   "labels_anchors": false,
   "latex_user_defs": false,
   "report_style_numbering": false,
   "user_envs_cfg": false
  }
 },
 "nbformat": 4,
 "nbformat_minor": 5
}
