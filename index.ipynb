{
 "cells": [
  {
   "cell_type": "markdown",
   "metadata": {},
   "source": [
    "# Data Handling and Visualisation"
   ]
  },
  {
   "cell_type": "markdown",
   "metadata": {},
   "source": [
    "### NumPy\n",
    "\n",
    "- [Lecture 1.1 - Introduction to NumPy and Data Types](notebooks/L11_Intro_to_NumPy_and_Data_Types.ipynb)\n",
    "- [Lecture 1.2 - The Basics of NumPy Arrays](notebooks/L12_The_Basics_Of_NumPy_Arrays.ipynb)\n",
    "- [Lecture 2.1 - Computation on NumPy Arrays: Universal Functions](notebooks/L21_Computation_on_Arrays_UFuncs.ipynb)\n",
    "- [Lecture 2.2 - Aggregations: Min, Max, and Everything In Between](notebooks/L22_Computation_on_Arrays_Aggregates.ipynb)\n",
    "- [Lecture 2.3 - Computation on Arrays: Broadcasting](notebooks/L23_Computation_on_Arrays_Broadcasting.ipynb)\n",
    "- [Lecture 3.1 - Comparisons, Masks, and Boolean Logic](notebooks/L31_Boolean_Arrays_and_Masks.ipynb)\n",
    "- [Lecture 3.2 - Fancy Indexing](notebooks/L32_Fancy_Indexing.ipynb)\n",
    "- [Lecture 3.3 - Sorting Arrays](notebooks/L33_Sorting.ipynb)\n",
    "- [Lecture 3.4 - Structured Data: NumPy's Structured Arrays](notebooks/L34_Structured_Data_NumPy.ipynb)\n",
    "\n",
    "### Pandas\n",
    "\n",
    "- [Lecture 4.1 - Introduction to Pandas](notebooks/L41_Intro_to_Pandas.ipynb)\n",
    "- [Lecture 4.2 - Data Indexing and Selection](notebooks/L42_Data_Indexing_and_Selection.ipynb)\n",
    "- [Lecture 4.3 - Operating on Data in Pandas](notebooks/L43_Operations_in_Pandas.ipynb)\n",
    "- [Lecture 4.4 - Handling Missing Data](notebooks/L44_Missing_Values.ipynb)\n",
    "- [Lecture 5.1 - Hierarchical Indexing](notebooks/L51_Hierarchical_Indexing.ipynb)\n",
    "- [Lecture 5.2 - Combining Datasets: Concat and Append](notebooks/L52_Concat_and_Append.ipynb)\n",
    "- [Lecture 5.3 - Combining Datasets: Merge and Join](notebooks/L53_Merge_and_Join.ipynb)\n",
    "- [Lecture 6.1 - Aggregation and Grouping](notebooks/L61_Aggregation_and_Grouping.ipynb)\n",
    "- [Lecture 6.2 - Pivot Tables](notebooks/L62_Pivot_Tables.ipynb)\n",
    "- [Lecture 6.3 - Vectorized String Operations](notebooks/L63_Working_with_Strings.ipynb)\n",
    "- [Lecture 7.1 - Working with Time Series](notebooks/L71_Working_with_Time_Series.ipynb)\n",
    "- [Lecture 7.2 - High-Performance Pandas: eval() and query()](notebooks/L72_Performance_Eval_and_Query.ipynb)\n",
    "\n",
    "### Matplotlib\n",
    "\n",
    "- [Lecture 8.1 - Introduction to Matplotlib](notebooks/L81_Intro_to_Matplotlib.ipynb)\n",
    "- [Lecture 8.2 - Simple Scatter Plots](notebooks/L82_Simple_Scatter_Plots.ipynb)\n",
    "- [Lecture 8.3 - Visualizing Errors](notebooks/L83_Errorbars.ipynb)\n",
    "- [Lecture 8.4 - Density and Contour Plots](notebooks/L84_Density_and_Contour_Plots.ipynb)\n",
    "- [Lecture 9.1 - Histograms, Binnings, and Density](notebooks/L91_Histograms_and_Binnings.ipynb)\n",
    "- [Lecture 9.2 - Customizing Plot Legends](notebooks/L92_Customizing_Legends.ipynb)\n",
    "- [Lecture 9.3 - Customizing Colorbars](notebooks/L93_Customizing_Colorbars.ipynb)\n",
    "- [Lecture 9.4 - Multiple Subplots](notebooks/L94_Multiple_Subplots.ipynb)\n",
    "- [Lecture 10.1 - Text and Annotation](notebooks/L101_Text_and_Annotation.ipynb)\n",
    "- [Lecture 10.2 - Customizing Ticks](notebooks/L102_Customizing_Ticks.ipynb)\n",
    "- [Lecture 10.3 - Configurations and Stylesheets](notebooks/L103_Settings_and_Stylesheets.ipynb)\n",
    "- [Lecture 11.1 - Three-Dimensional Plotting](notebooks/L111_Three_Dimensional_Plotting.ipynb)\n",
    "- [Lecture 11.2 - Geographic Data with Basemap](notebooks/L112_Geographic_Data_with_Basemap.ipynb)\n",
    "- [Lecture 11.3 - Visualization with Seaborn](notebooks/L113_Visualization_with_Seaborn.ipynb)\n",
    "\n",
    "### Bokeh and ggplot\n",
    "\n",
    "- [Lecture 12.1 - Introduction to Bokeh](notebooks/L121_Intro_to_Bokeh.ipynb)\n",
    "- [Lecture 12.2 - Introduction to ggplot](notebooks/L122_Intro_to_ggplot.ipynb)\n",
    "\n",
    "### References\n",
    "\n",
    "- [Python Data Science Handbook](http://shop.oreilly.com/product/0636920034919.do) by Jake VanderPlas; available [on GitHub](https://github.com/jakevdp/PythonDataScienceHandbook)\n"
   ]
  },
  {
   "cell_type": "code",
   "execution_count": null,
   "metadata": {},
   "outputs": [],
   "source": []
  }
 ],
 "metadata": {
  "kernelspec": {
   "display_name": "Python 3",
   "language": "python",
   "name": "python3"
  },
  "language_info": {
   "codemirror_mode": {
    "name": "ipython",
    "version": 3
   },
   "file_extension": ".py",
   "mimetype": "text/x-python",
   "name": "python",
   "nbconvert_exporter": "python",
   "pygments_lexer": "ipython3",
   "version": "3.7.9"
  }
 },
 "nbformat": 4,
 "nbformat_minor": 4
}
