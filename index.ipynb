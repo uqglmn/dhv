{
 "cells": [
  {
   "cell_type": "markdown",
   "metadata": {},
   "source": [
    "# Data Handling and Visualisation"
   ]
  },
  {
   "cell_type": "markdown",
   "metadata": {},
   "source": [
    "### NumPy\n",
    "\n",
    "- [Lecture 1](NumPy/L11_Intro_to_NumPy_and_Data_Types.ipynb)\n",
    "- [Lecture 2](NumPy/L12_The_Basics_Of_NumPy_Arrays.ipynb)\n",
    "- Lecture 3\n",
    "\n",
    "### Pandas\n",
    "\n",
    "- Lecture 4\n",
    "- Lecture 5\n",
    "- Lecture 6\n",
    "\n",
    "### Matplotlib\n",
    "\n",
    "TBC\n",
    "\n",
    "### Bokeh\n",
    "\n",
    "TBC\n",
    "\n",
    "### ggplot\n",
    "\n",
    "TBC\n",
    "\n",
    "### References\n",
    "\n",
    "- [Python Data Science Handbook](http://shop.oreilly.com/product/0636920034919.do) by Jake VanderPlas; the content is available [on GitHub](https://github.com/jakevdp/PythonDataScienceHandbook)\n"
   ]
  },
  {
   "cell_type": "code",
   "execution_count": null,
   "metadata": {},
   "outputs": [],
   "source": []
  }
 ],
 "metadata": {
  "kernelspec": {
   "display_name": "Python 3",
   "language": "python",
   "name": "python3"
  },
  "language_info": {
   "codemirror_mode": {
    "name": "ipython",
    "version": 3
   },
   "file_extension": ".py",
   "mimetype": "text/x-python",
   "name": "python",
   "nbconvert_exporter": "python",
   "pygments_lexer": "ipython3",
   "version": "3.7.9"
  }
 },
 "nbformat": 4,
 "nbformat_minor": 4
}
