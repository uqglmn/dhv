{
 "cells": [
  {
   "cell_type": "markdown",
   "metadata": {},
   "source": [
    "# Data Handling and Visualisation"
   ]
  },
  {
   "cell_type": "markdown",
   "metadata": {},
   "source": [
    "### NumPy\n",
    "\n",
    "- [Lecture 1](notebooks/L11_Intro_to_NumPy_and_Data_Types.ipynb)\n",
    "- [Lecture 2](notebooks/L21_Computation_on_arrays_ufuncs.ipynb)\n",
    "- [Lecture 3](notebooks/L31_Boolean_Arrays_and_Masks.ipynb)\n",
    "\n",
    "### Pandas\n",
    "\n",
    "- Lecture 4\n",
    "- Lecture 5\n",
    "- Lecture 6\n",
    "\n",
    "### Matplotlib and Seaborn\n",
    "\n",
    "- Lecture 7\n",
    "- Lecture 8\n",
    "- Lecture 9\n",
    "- Lecture 10\n",
    "\n",
    "### Bokeh\n",
    "\n",
    "- Lecture 11\n",
    "\n",
    "### ggplot\n",
    "\n",
    "- Lecture 12\n",
    "\n",
    "### References\n",
    "\n",
    "- [Python Data Science Handbook](http://shop.oreilly.com/product/0636920034919.do) by Jake VanderPlas; available [on GitHub](https://github.com/jakevdp/PythonDataScienceHandbook)\n"
   ]
  },
  {
   "cell_type": "code",
   "execution_count": null,
   "metadata": {},
   "outputs": [],
   "source": []
  }
 ],
 "metadata": {
  "kernelspec": {
   "display_name": "Python 3",
   "language": "python",
   "name": "python3"
  },
  "language_info": {
   "codemirror_mode": {
    "name": "ipython",
    "version": 3
   },
   "file_extension": ".py",
   "mimetype": "text/x-python",
   "name": "python",
   "nbconvert_exporter": "python",
   "pygments_lexer": "ipython3",
   "version": "3.7.9"
  }
 },
 "nbformat": 4,
 "nbformat_minor": 4
}
