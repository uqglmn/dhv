{
 "cells": [
  {
   "cell_type": "markdown",
   "metadata": {},
   "source": [
    "# Data Handling and Visualisation"
   ]
  },
  {
   "cell_type": "markdown",
   "metadata": {},
   "source": [
    "### Part I: NumPy\n",
    "\n",
    "- [Lecture 1.1 - Introduction to NumPy and Data Types](notebooks/L11_Intro_to_NumPy_and_Data_Types.ipynb) - Data types in Python, NumPy Array vs Python List, Creating NumPy Array.\n",
    "\n",
    "- [Lecture 1.2 - The Basics of NumPy Arrays](notebooks/L12_The_Basics_Of_NumPy_Arrays.ipynb) - Attributes, Indexing, Slicing, Reshaping, Concatenation and Splitting.\n",
    "\n",
    "- [Lecture 1.3 - Computation on NumPy Arrays: Universal Functions](notebooks/L13_Computation_on_Arrays_UFuncs.ipynb) - Loops vs UFuncs, NumPy's UFuncs.\n",
    "\n",
    "\n",
    "- [Lecture 2.1 - Aggregations: Min, Max, and Everything In Between](notebooks/L21_Computation_on_Arrays_Aggregates.ipynb) - Sum, Min, Max & Other Aggregation functions.\n",
    "\n",
    "- [Lecture 2.2 - Computation on Arrays: Broadcasting](notebooks/L22_Computation_on_Arrays_Broadcasting.ipynb) - Rules of Broadcasting and Some Examples.\n",
    "\n",
    "- [Lecture 2.3 - Comparisons, Masks, and Boolean Logic](notebooks/L23_Boolean_Arrays_and_Masks.ipynb) - Comparison Operators, Boolean Arrays and Masks.\n",
    "\n",
    "\n",
    "- [Lecture 3.1 - Fancy Indexing](notebooks/L31_Fancy_Indexing.ipynb) - What is Fancy Indexing? Combined Indexing, Modyfing Values, and Some Examples.\n",
    "\n",
    "- [Lecture 3.2 - Sorting Arrays](notebooks/L32_Sorting.ipynb) - Fast Sorting in NumPy and Partitioning.\n",
    "\n",
    "- [Lecture 3.3 - Structured Data: NumPy's Structured Arrays](notebooks/L33_Structured_Data_NumPy.ipynb) - What is a Structured Array and How To Create One.\n",
    "\n",
    "\n",
    "### Part II: Pandas\n",
    "\n",
    "- TBC\n",
    "\n",
    "### Part III: Matplotlib\n",
    "\n",
    "- TBC\n"
   ]
  }
 ],
 "metadata": {
  "kernelspec": {
   "display_name": "Python 3",
   "language": "python",
   "name": "python3"
  },
  "language_info": {
   "codemirror_mode": {
    "name": "ipython",
    "version": 3
   },
   "file_extension": ".py",
   "mimetype": "text/x-python",
   "name": "python",
   "nbconvert_exporter": "python",
   "pygments_lexer": "ipython3",
   "version": "3.7.9"
  }
 },
 "nbformat": 4,
 "nbformat_minor": 4
}
